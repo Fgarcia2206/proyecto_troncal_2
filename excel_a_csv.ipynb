{
 "cells": [
  {
   "cell_type": "code",
   "execution_count": 1,
   "metadata": {},
   "outputs": [
    {
     "name": "stdout",
     "output_type": "stream",
     "text": [
      "El archivo CSV ha sido guardado en data/Evolucion_enfermedad_fiebre_de_Norilsk.csv\n"
     ]
    }
   ],
   "source": [
    "import pandas as pd\n",
    "\n",
    "# Cargar el archivo Excel\n",
    "archivo_excel = \"data/Evolucion_enfermedad_fiebre_de_Norilsk.xlsx\"\n",
    "df = pd.read_excel(archivo_excel)\n",
    "\n",
    "# Guardar el DataFrame como un archivo CSV\n",
    "archivo_csv = \"data/Evolucion_enfermedad_fiebre_de_Norilsk.csv\"\n",
    "df.to_csv(archivo_csv, index=False)  # `index=False` para no incluir el índice en el CSV\n",
    "\n",
    "print(f\"El archivo CSV ha sido guardado en {archivo_csv}\")\n"
   ]
  }
 ],
 "metadata": {
  "kernelspec": {
   "display_name": "nombre_del_entorno",
   "language": "python",
   "name": "python3"
  },
  "language_info": {
   "codemirror_mode": {
    "name": "ipython",
    "version": 3
   },
   "file_extension": ".py",
   "mimetype": "text/x-python",
   "name": "python",
   "nbconvert_exporter": "python",
   "pygments_lexer": "ipython3",
   "version": "3.12.4"
  }
 },
 "nbformat": 4,
 "nbformat_minor": 2
}
